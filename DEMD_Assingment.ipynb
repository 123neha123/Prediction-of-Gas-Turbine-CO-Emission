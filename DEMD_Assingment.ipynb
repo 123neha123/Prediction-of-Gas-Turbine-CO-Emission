{
 "cells": [
  {
   "cell_type": "markdown",
   "metadata": {
    "id": "p89OBW77_zl2"
   },
   "source": [
    "# PROJECT DESCRIPTION\n"
   ]
  },
  {
   "cell_type": "markdown",
   "metadata": {
    "id": "P3rgsA_QdAMR"
   },
   "source": [
    "**OBJECTIVE**: Prediction of Gas Turbine CO Emission \n",
    "\n",
    "**Description**: Predict the Gas Turbine CO Emission using 11 sensor measures aggregated over one hour (by means of average orsum) from a gas turbine located in Turkey's north western region for the purpose of studying flue gas emissions,namely CO and NOx (NO + NO2)\n",
    "\n",
    "**Motivation**: Harmful effect of Flue gas emitted from power plant turbines on environment has always been a substantial concern. In the recent past years many peaceful protest to save environment has been seen. Environmental organization that seeks to protect, analyse or monitor the environment have conducted many events and activities to raise people awareness on environment.\n",
    "This project aims to predict emission of flue gases based on sensor data from gas turbine and various Machine Learning techniques. \n",
    "\n",
    "The ML model can be used to predict/estimate amount of emission for future operations of Turbine and Turbine of same homologus series. Model output can also be used for validation and backing up of costly continuous emission monitoring systems used in gas-turbine-based power plants. Their implementation relies on the availability of appropriate and ecologically valid data.\n",
    "\n",
    "**Data Source**: https://archive.ics.uci.edu/ml/datasets/Gas+Turbine+CO+and+NOx+Emission+Data+Set#\n",
    "\n",
    "**Data Description:** The dataset contains 36733 instances of 11 sensor measures aggregated over one hour (by means of average or sum) from a gas turbine located in Turkey's north western region for the purpose of studying flue gas emissions, namely CO and NOx (NO + NO2).\n",
    "\n",
    " **Variable (Abbr.)  &  Unit**\n",
    "\n",
    "Ambient temperature (AT) C \n",
    "\n",
    "Ambient pressure (AP) mbar \n",
    "\n",
    "Ambient humidity (AH) (%) \n",
    "\n",
    "Air filter difference pressure (AFDP) mbar\n",
    "\n",
    "Gas turbine exhaust pressure (GTEP) mbar \n",
    "\n",
    "Turbine inlet temperature (TIT) C \n",
    "\n",
    "Turbine after temperature (TAT) C \n",
    "\n",
    "Compressor discharge pressure (CDP) mbar \n",
    "\n",
    "Turbine energy yield (TEY) MWH \n",
    "\n",
    "Carbon monoxide (CO) mg/m^3\n",
    "\n",
    " Nitrogen oxides (NOx) mg/m^3"
   ]
  },
  {
   "cell_type": "markdown",
   "metadata": {
    "id": "CrSh16gKogoY"
   },
   "source": [
    "# Model Building"
   ]
  },
  {
   "cell_type": "code",
   "execution_count": 15,
   "metadata": {
    "id": "NQaO_J13DAJh"
   },
   "outputs": [],
   "source": [
    "# Importing Libraries\n",
    "from sklearn.pipeline import Pipeline\n",
    "from sklearn.preprocessing import StandardScaler, PolynomialFeatures\n",
    "from sklearn.decomposition import PCA\n",
    "from sklearn.ensemble import RandomForestRegressor\n",
    "import pandas as pd\n",
    "import numpy as np"
   ]
  },
  {
   "cell_type": "code",
   "execution_count": 16,
   "metadata": {
    "colab": {
     "base_uri": "https://localhost:8080/",
     "height": 221
    },
    "id": "uRY_3HnYDAJh",
    "outputId": "4aba6fd7-cb1b-4be2-e4c8-9b8c85941908"
   },
   "outputs": [
    {
     "name": "stdout",
     "output_type": "stream",
     "text": [
      "(25537, 11)\n"
     ]
    },
    {
     "data": {
      "text/html": [
       "<div>\n",
       "<style scoped>\n",
       "    .dataframe tbody tr th:only-of-type {\n",
       "        vertical-align: middle;\n",
       "    }\n",
       "\n",
       "    .dataframe tbody tr th {\n",
       "        vertical-align: top;\n",
       "    }\n",
       "\n",
       "    .dataframe thead th {\n",
       "        text-align: right;\n",
       "    }\n",
       "</style>\n",
       "<table border=\"1\" class=\"dataframe\">\n",
       "  <thead>\n",
       "    <tr style=\"text-align: right;\">\n",
       "      <th></th>\n",
       "      <th>AT</th>\n",
       "      <th>AP</th>\n",
       "      <th>AH</th>\n",
       "      <th>AFDP</th>\n",
       "      <th>GTEP</th>\n",
       "      <th>TIT</th>\n",
       "      <th>TAT</th>\n",
       "      <th>TEY</th>\n",
       "      <th>CDP</th>\n",
       "      <th>CO</th>\n",
       "      <th>NOX</th>\n",
       "    </tr>\n",
       "  </thead>\n",
       "  <tbody>\n",
       "    <tr>\n",
       "      <th>0</th>\n",
       "      <td>23.056</td>\n",
       "      <td>1019.3</td>\n",
       "      <td>62.777</td>\n",
       "      <td>4.2547</td>\n",
       "      <td>30.505</td>\n",
       "      <td>1100.0</td>\n",
       "      <td>542.30</td>\n",
       "      <td>150.94</td>\n",
       "      <td>13.379</td>\n",
       "      <td>1.6653</td>\n",
       "      <td>49.305</td>\n",
       "    </tr>\n",
       "    <tr>\n",
       "      <th>1</th>\n",
       "      <td>25.551</td>\n",
       "      <td>1010.5</td>\n",
       "      <td>81.232</td>\n",
       "      <td>4.4498</td>\n",
       "      <td>29.848</td>\n",
       "      <td>1099.6</td>\n",
       "      <td>545.38</td>\n",
       "      <td>146.08</td>\n",
       "      <td>13.117</td>\n",
       "      <td>1.0618</td>\n",
       "      <td>55.238</td>\n",
       "    </tr>\n",
       "    <tr>\n",
       "      <th>2</th>\n",
       "      <td>18.250</td>\n",
       "      <td>1017.9</td>\n",
       "      <td>81.401</td>\n",
       "      <td>3.9130</td>\n",
       "      <td>21.331</td>\n",
       "      <td>1043.6</td>\n",
       "      <td>539.33</td>\n",
       "      <td>113.22</td>\n",
       "      <td>11.017</td>\n",
       "      <td>12.6590</td>\n",
       "      <td>71.888</td>\n",
       "    </tr>\n",
       "    <tr>\n",
       "      <th>3</th>\n",
       "      <td>19.743</td>\n",
       "      <td>1016.0</td>\n",
       "      <td>82.356</td>\n",
       "      <td>3.7566</td>\n",
       "      <td>24.196</td>\n",
       "      <td>1078.6</td>\n",
       "      <td>549.94</td>\n",
       "      <td>130.07</td>\n",
       "      <td>11.891</td>\n",
       "      <td>2.0195</td>\n",
       "      <td>52.263</td>\n",
       "    </tr>\n",
       "    <tr>\n",
       "      <th>4</th>\n",
       "      <td>26.957</td>\n",
       "      <td>1010.2</td>\n",
       "      <td>65.205</td>\n",
       "      <td>5.3760</td>\n",
       "      <td>30.726</td>\n",
       "      <td>1099.9</td>\n",
       "      <td>544.02</td>\n",
       "      <td>148.01</td>\n",
       "      <td>13.272</td>\n",
       "      <td>1.0975</td>\n",
       "      <td>55.536</td>\n",
       "    </tr>\n",
       "  </tbody>\n",
       "</table>\n",
       "</div>"
      ],
      "text/plain": [
       "       AT      AP      AH    AFDP  ...     TEY     CDP       CO     NOX\n",
       "0  23.056  1019.3  62.777  4.2547  ...  150.94  13.379   1.6653  49.305\n",
       "1  25.551  1010.5  81.232  4.4498  ...  146.08  13.117   1.0618  55.238\n",
       "2  18.250  1017.9  81.401  3.9130  ...  113.22  11.017  12.6590  71.888\n",
       "3  19.743  1016.0  82.356  3.7566  ...  130.07  11.891   2.0195  52.263\n",
       "4  26.957  1010.2  65.205  5.3760  ...  148.01  13.272   1.0975  55.536\n",
       "\n",
       "[5 rows x 11 columns]"
      ]
     },
     "execution_count": 16,
     "metadata": {},
     "output_type": "execute_result"
    }
   ],
   "source": [
    "# path of each file\n",
    "path = (\"dataFolder/CO_NOX.csv\")\n",
    "\n",
    "df = pd.read_csv(path)\n",
    "print(df.shape)\n",
    "df.head()"
   ]
  },
  {
   "cell_type": "code",
   "execution_count": 19,
   "metadata": {
    "id": "qGFYgjVsDAJi"
   },
   "outputs": [],
   "source": [
    "# DATA\n",
    "X = df.iloc[:,0:-2]\n",
    "y = df.loc[:,['CO','NOX']]\n",
    "\n",
    "X_final_CO = X.loc[:,['AT',  'AFDP', 'GTEP', 'TIT', 'TAT', 'TEY', 'CDP']].copy()\n",
    "X_final_CO.reset_index(drop=True,inplace=True)\n",
    "\n",
    "y_final_CO = y.loc[:,['CO']].copy()\n",
    "y_final_CO.reset_index(drop=True,inplace=True)"
   ]
  },
  {
   "cell_type": "code",
   "execution_count": 20,
   "metadata": {
    "id": "l5l7UPyTDAJi"
   },
   "outputs": [],
   "source": [
    "# creating pipeline\n",
    "pipe = Pipeline([('scaler', StandardScaler()), \n",
    "                 ('pca', PCA(n_components=4,svd_solver='full')),\n",
    "                 ('poly', PolynomialFeatures(degree=2)),\n",
    "                 ('randomForest', RandomForestRegressor(max_depth=16, n_estimators=161, n_jobs=-1, \n",
    "                                  criterion='friedman_mse', warm_start=True, \n",
    "                                  oob_score=True, bootstrap=True,\n",
    "                                  max_features=4, random_state=4578))\n",
    "                ])"
   ]
  },
  {
   "cell_type": "code",
   "execution_count": 21,
   "metadata": {
    "colab": {
     "base_uri": "https://localhost:8080/"
    },
    "id": "5YdasgC2DAJi",
    "outputId": "d94de741-8d9b-490c-d9e8-cd40be87fda1"
   },
   "outputs": [
    {
     "data": {
      "text/plain": [
       "Pipeline(memory=None,\n",
       "         steps=[('scaler',\n",
       "                 StandardScaler(copy=True, with_mean=True, with_std=True)),\n",
       "                ('pca',\n",
       "                 PCA(copy=True, iterated_power='auto', n_components=4,\n",
       "                     random_state=None, svd_solver='full', tol=0.0,\n",
       "                     whiten=False)),\n",
       "                ('poly',\n",
       "                 PolynomialFeatures(degree=2, include_bias=True,\n",
       "                                    interaction_only=False, order='C')),\n",
       "                ('randomForest',\n",
       "                 RandomForestRegressor(bootstrap=True, ccp_alpha=0.0,\n",
       "                                       criterion='friedman_mse', max_depth=16,\n",
       "                                       max_features=4, max_leaf_nodes=None,\n",
       "                                       max_samples=None,\n",
       "                                       min_impurity_decrease=0.0,\n",
       "                                       min_impurity_split=None,\n",
       "                                       min_samples_leaf=1, min_samples_split=2,\n",
       "                                       min_weight_fraction_leaf=0.0,\n",
       "                                       n_estimators=161, n_jobs=-1,\n",
       "                                       oob_score=True, random_state=4578,\n",
       "                                       verbose=0, warm_start=True))],\n",
       "         verbose=False)"
      ]
     },
     "execution_count": 21,
     "metadata": {},
     "output_type": "execute_result"
    }
   ],
   "source": [
    "# Fitting Pipeline\n",
    "pipe.fit(X_final_CO,y_final_CO.CO)"
   ]
  },
  {
   "cell_type": "code",
   "execution_count": 22,
   "metadata": {
    "colab": {
     "base_uri": "https://localhost:8080/"
    },
    "id": "Z01scCzcDAJi",
    "outputId": "f8dc7114-ac01-4f4f-9711-bca21505ac61"
   },
   "outputs": [
    {
     "data": {
      "text/plain": [
       "0.2808514010018447"
      ]
     },
     "execution_count": 22,
     "metadata": {},
     "output_type": "execute_result"
    }
   ],
   "source": [
    "# Checking performance\n",
    "mean_squared_error(y_final_CO,pipe.predict(X_final_CO))"
   ]
  },
  {
   "cell_type": "markdown",
   "metadata": {
    "id": "HMiLL_ZVDAJj"
   },
   "source": [
    "# Saving Model in Pickle file"
   ]
  },
  {
   "cell_type": "code",
   "execution_count": 23,
   "metadata": {
    "id": "V0m3sa8PDAJj"
   },
   "outputs": [],
   "source": [
    "import pickle"
   ]
  },
  {
   "cell_type": "code",
   "execution_count": 24,
   "metadata": {
    "id": "yGseNqAjDAJj"
   },
   "outputs": [],
   "source": [
    "pickle.dump(pipe,open('RandomForest_CO_pred.pkl','wb'))"
   ]
  },
  {
   "cell_type": "markdown",
   "metadata": {
    "id": "ec_OMXRZEzBA"
   },
   "source": [
    "# Creating Flask app\n",
    "\n",
    "## Note : Creating Flask app and hosting model is in app.py file"
   ]
  },
  {
   "cell_type": "markdown",
   "metadata": {
    "id": "d7a2U4US_NWF"
   },
   "source": [
    "# References & Citation\n",
    "\n",
    "References & Citation\n",
    "Heysem Kaya, PÄ±nar TÃ¼fekci and ErdinÃ§ Uzun. 'Predicting CO and NOx emissions from gas turbines: novel data and a benchmark PEMS', Turkish Journal of Electrical Engineering & Computer Sciences, vol. 27, 2019, pp. 4783-4796\n",
    "\n",
    "x-----------------------x-----------------------x------------------------x-----------------------x----------------------------x----------------------x"
   ]
  }
 ],
 "metadata": {
  "colab": {
   "collapsed_sections": [],
   "name": "DEMD_Assingment.ipynb",
   "provenance": []
  },
  "kernelspec": {
   "display_name": "Python 3",
   "language": "python",
   "name": "python3"
  },
  "language_info": {
   "codemirror_mode": {
    "name": "ipython",
    "version": 3
   },
   "file_extension": ".py",
   "mimetype": "text/x-python",
   "name": "python",
   "nbconvert_exporter": "python",
   "pygments_lexer": "ipython3",
   "version": "3.8.8"
  }
 },
 "nbformat": 4,
 "nbformat_minor": 1
}
